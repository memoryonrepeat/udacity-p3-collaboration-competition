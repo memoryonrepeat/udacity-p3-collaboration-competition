{
 "cells": [
  {
   "cell_type": "markdown",
   "metadata": {},
   "source": [
    "# Collaboration and Competition\n",
    "\n",
    "---\n",
    "\n",
    "You are welcome to use this coding environment to train your agent for the project.  Follow the instructions below to get started!\n",
    "\n",
    "### 1. Start the Environment\n",
    "\n",
    "Run the next code cell to install a few packages.  This line will take a few minutes to run!"
   ]
  },
  {
   "cell_type": "markdown",
   "metadata": {},
   "source": [
    "The environment is already saved in the Workspace and can be accessed at the file path provided below. "
   ]
  },
  {
   "cell_type": "code",
   "execution_count": 1,
   "metadata": {},
   "outputs": [
    {
     "name": "stdout",
     "output_type": "stream",
     "text": [
      "\u001b[31mtensorflow 1.7.1 has requirement numpy>=1.13.3, but you'll have numpy 1.12.1 which is incompatible.\u001b[0m\r\n",
      "\u001b[31mipython 6.5.0 has requirement prompt-toolkit<2.0.0,>=1.0.15, but you'll have prompt-toolkit 3.0.5 which is incompatible.\u001b[0m\r\n"
     ]
    }
   ],
   "source": [
    "!pip -q install ./python"
   ]
  },
  {
   "cell_type": "code",
   "execution_count": 2,
   "metadata": {},
   "outputs": [
    {
     "name": "stderr",
     "output_type": "stream",
     "text": [
      "INFO:unityagents:\n",
      "'Academy' started successfully!\n",
      "Unity Academy name: Academy\n",
      "        Number of Brains: 1\n",
      "        Number of External Brains : 1\n",
      "        Lesson number : 0\n",
      "        Reset Parameters :\n",
      "\t\t\n",
      "Unity brain name: TennisBrain\n",
      "        Number of Visual Observations (per agent): 0\n",
      "        Vector Observation space type: continuous\n",
      "        Vector Observation space size (per agent): 8\n",
      "        Number of stacked Vector Observation: 3\n",
      "        Vector Action space type: continuous\n",
      "        Vector Action space size (per agent): 2\n",
      "        Vector Action descriptions: , \n"
     ]
    }
   ],
   "source": [
    "from unityagents import UnityEnvironment\n",
    "import numpy as np\n",
    "\n",
    "import gym\n",
    "import random\n",
    "import torch\n",
    "from collections import deque\n",
    "import matplotlib.pyplot as plt\n",
    "%matplotlib inline\n",
    "import torch.nn as nn\n",
    "import torch.nn.functional as F\n",
    "\n",
    "env = UnityEnvironment(file_name=\"/data/Tennis_Linux_NoVis/Tennis\")"
   ]
  },
  {
   "cell_type": "markdown",
   "metadata": {},
   "source": [
    "Environments contain **_brains_** which are responsible for deciding the actions of their associated agents. Here we check for the first brain available, and set it as the default brain we will be controlling from Python."
   ]
  },
  {
   "cell_type": "code",
   "execution_count": 3,
   "metadata": {},
   "outputs": [],
   "source": [
    "# get the default brain\n",
    "brain_name = env.brain_names[0]\n",
    "brain = env.brains[brain_name]"
   ]
  },
  {
   "cell_type": "markdown",
   "metadata": {},
   "source": [
    "### 2. Examine the State and Action Spaces\n",
    "\n",
    "Run the code cell below to print some information about the environment."
   ]
  },
  {
   "cell_type": "code",
   "execution_count": 4,
   "metadata": {},
   "outputs": [
    {
     "name": "stdout",
     "output_type": "stream",
     "text": [
      "Number of agents: 2\n",
      "Size of each action: 2\n",
      "There are 2 agents. Each observes a state with length: 24\n",
      "The state for the first agent looks like: [ 0.          0.          0.          0.          0.          0.          0.\n",
      "  0.          0.          0.          0.          0.          0.          0.\n",
      "  0.          0.         -6.65278625 -1.5        -0.          0.\n",
      "  6.83172083  6.         -0.          0.        ]\n"
     ]
    }
   ],
   "source": [
    "# reset the environment\n",
    "env_info = env.reset(train_mode=True)[brain_name]\n",
    "\n",
    "# number of agents \n",
    "num_agents = len(env_info.agents)\n",
    "print('Number of agents:', num_agents)\n",
    "\n",
    "# size of each action\n",
    "action_size = brain.vector_action_space_size\n",
    "print('Size of each action:', action_size)\n",
    "\n",
    "# examine the state space \n",
    "states = env_info.vector_observations\n",
    "state_size = states.shape[1]\n",
    "print('There are {} agents. Each observes a state with length: {}'.format(states.shape[0], state_size))\n",
    "print('The state for the first agent looks like:', states[0])"
   ]
  },
  {
   "cell_type": "markdown",
   "metadata": {},
   "source": [
    "### 4. It's Your Turn!\n",
    "\n",
    "Now it's your turn to train your own agent to solve the environment!  A few **important notes**:\n",
    "- When training the environment, set `train_mode=True`, so that the line for resetting the environment looks like the following:\n",
    "```python\n",
    "env_info = env.reset(train_mode=True)[brain_name]\n",
    "```\n",
    "- To structure your work, you're welcome to work directly in this Jupyter notebook, or you might like to start over with a new file!  You can see the list of files in the workspace by clicking on **_Jupyter_** in the top left corner of the notebook.\n",
    "- In this coding environment, you will not be able to watch the agents while they are training.  However, **_after training the agents_**, you can download the saved model weights to watch the agents on your own machine! "
   ]
  },
  {
   "cell_type": "code",
   "execution_count": 5,
   "metadata": {},
   "outputs": [],
   "source": [
    "# Plot scores and moving average\n",
    "def visualize(actor, critic, scores, window_avg):\n",
    "    fig = plt.figure()\n",
    "    ax = fig.add_subplot(111)\n",
    "    plt.plot(np.arange(len(scores)), scores, label='Actor: {} . Critic: {}'.format(actor.__name__, critic.__name__))\n",
    "    plt.plot(np.arange(len(scores)), window_avgs, c='r', label='window average')\n",
    "    plt.ylabel('Score')\n",
    "    plt.xlabel('Episode #')\n",
    "    plt.legend(loc='lower right')\n",
    "    plt.show()"
   ]
  },
  {
   "cell_type": "code",
   "execution_count": 6,
   "metadata": {},
   "outputs": [],
   "source": [
    "def hidden_init(layer):\n",
    "    fan_in = layer.weight.data.size()[0]\n",
    "    lim = 1. / np.sqrt(fan_in)\n",
    "    return (-lim, lim)"
   ]
  },
  {
   "cell_type": "code",
   "execution_count": 7,
   "metadata": {},
   "outputs": [],
   "source": [
    "import numpy as np\n",
    "\n",
    "import torch\n",
    "import torch.nn as nn\n",
    "import torch.nn.functional as F\n",
    "\n",
    "def hidden_init(layer):\n",
    "    fan_in = layer.weight.data.size()[0]\n",
    "    lim = 1. / np.sqrt(fan_in)\n",
    "    return (-lim, lim)\n",
    "\n",
    "class Actor(nn.Module):\n",
    "    \"\"\"Actor (Policy) Model.\"\"\"\n",
    "\n",
    "    def __init__(self, state_size, action_size, seed, fc1_units=256, fc2_units=128):\n",
    "        \"\"\"Initialize parameters and build model.\n",
    "        Params\n",
    "        ======\n",
    "            state_size (int): Dimension of each state\n",
    "            action_size (int): Dimension of each action\n",
    "            seed (int): Random seed\n",
    "            fc1_units (int): Number of nodes in first hidden layer\n",
    "            fc2_units (int): Number of nodes in second hidden layer\n",
    "        \"\"\"\n",
    "        super(Actor, self).__init__()\n",
    "        self.state_size = state_size\n",
    "        self.seed = torch.manual_seed(seed)\n",
    "\n",
    "        self.bn1 = nn.BatchNorm1d(state_size)\n",
    "        self.fc1 = nn.Linear(state_size, fc1_units)\n",
    "\n",
    "        self.bn2 = nn.BatchNorm1d(fc1_units)\n",
    "        self.fc2 = nn.Linear(fc1_units, fc2_units)\n",
    "\n",
    "        self.bn3 = nn.BatchNorm1d(fc2_units)\n",
    "        self.fc3 = nn.Linear(fc2_units, action_size)\n",
    "\n",
    "        self.reset_parameters()\n",
    "\n",
    "    def reset_parameters(self):\n",
    "        self.fc1.weight.data.uniform_(*hidden_init(self.fc1))\n",
    "        self.fc2.weight.data.uniform_(*hidden_init(self.fc2))\n",
    "        self.fc3.weight.data.uniform_(-3e-3, 3e-3)\n",
    "\n",
    "    def forward(self, state):\n",
    "        #Build an actor (policy) network that maps states -> actions.\n",
    "        if len(state) == self.state_size:\n",
    "            state = state.unsqueeze(0)\n",
    "\n",
    "        x = F.relu(self.fc1(self.bn1(state)))\n",
    "        x = F.relu(self.fc2(self.bn2(x)))\n",
    "        return F.tanh(self.fc3(self.bn3(x)))\n",
    "\n",
    "\n",
    "class Critic(nn.Module):\n",
    "    \"\"\"Critic (Value) Model.\"\"\"\n",
    "\n",
    "    def __init__(self, state_size, action_size, seed, fcs1_units=256, fc2_units=128):\n",
    "        \"\"\"Initialize parameters and build model.\n",
    "        Params\n",
    "        ======\n",
    "            state_size (int): Dimension of each state\n",
    "            action_size (int): Dimension of each action\n",
    "            seed (int): Random seed\n",
    "            fcs1_units (int): Number of nodes in the first hidden layer\n",
    "            fc2_units (int): Number of nodes in the second hidden layer\n",
    "        \"\"\"\n",
    "        super(Critic, self).__init__()\n",
    "        self.seed = torch.manual_seed(seed)\n",
    "\n",
    "        self.fcs1 = nn.Linear(state_size, fcs1_units)\n",
    "        self.bns = nn.BatchNorm1d(fcs1_units)\n",
    "\n",
    "        self.fc2 = nn.Linear(fcs1_units + action_size, fc2_units)\n",
    "        self.fc3 = nn.Linear(fc2_units, 1)\n",
    "\n",
    "        self.reset_parameters()\n",
    "\n",
    "    def reset_parameters(self):\n",
    "        self.fcs1.weight.data.uniform_(*hidden_init(self.fcs1))\n",
    "        self.fc2.weight.data.uniform_(*hidden_init(self.fc2))\n",
    "        self.fc3.weight.data.uniform_(-3e-3, 3e-3)\n",
    "\n",
    "    def forward(self, state, action):\n",
    "        #Build a critic (value) network that maps (state, action) pairs -> Q-values.\n",
    "        xs = F.relu(self.fcs1(state))\n",
    "        xs = self.bns(xs)\n",
    "        x = torch.cat((xs, action), dim=1)\n",
    "        x = F.relu(self.fc2(x))\n",
    "        return self.fc3(x)\n"
   ]
  },
  {
   "cell_type": "code",
   "execution_count": 10,
   "metadata": {},
   "outputs": [],
   "source": [
    "def maddpg(n_episodes=5000, max_t=1000, print_every=50, num_agents=2):\n",
    "    scores_deque = deque(maxlen=100)\n",
    "    scores_list = []\n",
    "    window_avgs = []\n",
    "    max_score = 0\n",
    "    for i_episode in range(1, n_episodes + 1):\n",
    "        env_info = env.reset(train_mode=True)[brain_name]     \n",
    "        states = env_info.vector_observations                 \n",
    "        scores = np.zeros(num_agents)                         \n",
    "        for t in range(max_t):\n",
    "            actions = np.concatenate([agents[i].act(states[i]).reshape(1,2) for i in range(num_agents)], axis=0)\n",
    "            env_info = env.step(actions)[brain_name]           \n",
    "            next_states = env_info.vector_observations         # get all next states for each agents\n",
    "            rewards = env_info.rewards                         # get all rewards for each agents\n",
    "            dones = env_info.local_done                        # get all finished status for each agent\n",
    "            \n",
    "            for i in range(num_agents):                     \n",
    "                agents[i].step(states[i], actions[i], rewards[i], next_states[i], dones[i])\n",
    "                for j in range(num_agents):\n",
    "                    if j != i: # MADDPG - collect memories of other agents as well\n",
    "                        agents[j].memory.add(states[i], actions[i], rewards[i], next_states[i], dones[i])\n",
    "            \n",
    "            states = next_states                               \n",
    "            scores += env_info.rewards                         \n",
    "            if np.any(dones): \n",
    "                break\n",
    "        scores_deque.append(np.max(scores))\n",
    "        scores_list.append(np.max(scores))\n",
    "        window_avg = np.mean(scores_deque) # calculate average from score window\n",
    "        window_avgs.append(window_avg)\n",
    "        print('\\rEpisode {}\\tAverage Score: {:.4f}'.format(i_episode, window_avg), end=\"\")\n",
    "        \n",
    "        for i in range(2):\n",
    "            torch.save(agents[i].actor_local.state_dict(), 'checkpoint_actor'+ str(i) + '.pth')\n",
    "            torch.save(agents[i].critic_local.state_dict(), 'checkpoint_critic' + str(i) + '.pth')\n",
    "        \n",
    "        if i_episode % print_every == 0:\n",
    "            print('\\rEpisode {}\\tAverage Score: {:.4f}'.format(i_episode, window_avg))\n",
    "            \n",
    "        if np.max(scores) > max_score + 0.01:\n",
    "            max_score = np.max(scores)\n",
    "            for i in range(2):\n",
    "                torch.save(agents[i].actor_local.state_dict(), 'checkpoint_actor'+ str(i) + '.pth')\n",
    "                torch.save(agents[i].critic_local.state_dict(), 'checkpoint_critic' + str(i) + '.pth')\n",
    "            \n",
    "        if window_avg >= 0.5:\n",
    "            print('\\nProblem Solved in {} episodes.\\tAverage Score: {:.4f}'.format(i_episode, window_avg))\n",
    "            for i in range(2):\n",
    "                torch.save(agents[i].actor_local.state_dict(), 'checkpoint_actor'+ str(i) + '.pth')\n",
    "                torch.save(agents[i].critic_local.state_dict(), 'checkpoint_critic' + str(i) + '.pth')\n",
    "            break\n",
    "            \n",
    "    return scores_list, window_avgs"
   ]
  },
  {
   "cell_type": "code",
   "execution_count": 11,
   "metadata": {
    "scrolled": true
   },
   "outputs": [
    {
     "name": "stdout",
     "output_type": "stream",
     "text": [
      "Episode 50\tAverage Score: 0.0080\n",
      "Episode 100\tAverage Score: 0.0049\n",
      "Episode 150\tAverage Score: 0.0019\n",
      "Episode 200\tAverage Score: 0.0029\n",
      "Episode 250\tAverage Score: 0.0038\n",
      "Episode 300\tAverage Score: 0.0055\n",
      "Episode 350\tAverage Score: 0.0100\n",
      "Episode 400\tAverage Score: 0.0094\n",
      "Episode 450\tAverage Score: 0.0120\n",
      "Episode 500\tAverage Score: 0.0277\n",
      "Episode 550\tAverage Score: 0.0443\n",
      "Episode 600\tAverage Score: 0.0591\n",
      "Episode 650\tAverage Score: 0.0635\n",
      "Episode 700\tAverage Score: 0.0753\n",
      "Episode 750\tAverage Score: 0.0962\n",
      "Episode 800\tAverage Score: 0.1087\n",
      "Episode 850\tAverage Score: 0.1120\n",
      "Episode 900\tAverage Score: 0.1089\n",
      "Episode 950\tAverage Score: 0.1214\n",
      "Episode 1000\tAverage Score: 0.1303\n",
      "Episode 1050\tAverage Score: 0.1484\n",
      "Episode 1100\tAverage Score: 0.2034\n",
      "Episode 1150\tAverage Score: 0.2294\n",
      "Episode 1200\tAverage Score: 0.2036\n",
      "Episode 1250\tAverage Score: 0.2303\n",
      "Episode 1300\tAverage Score: 0.2274\n",
      "Episode 1350\tAverage Score: 0.2255\n",
      "Episode 1400\tAverage Score: 0.2585\n",
      "Episode 1450\tAverage Score: 0.2857\n",
      "Episode 1500\tAverage Score: 0.2745\n",
      "Episode 1550\tAverage Score: 0.2584\n",
      "Episode 1600\tAverage Score: 0.3013\n",
      "Episode 1650\tAverage Score: 0.3400\n",
      "Episode 1700\tAverage Score: 0.3467\n",
      "Episode 1750\tAverage Score: 0.2892\n",
      "Episode 1800\tAverage Score: 0.2718\n",
      "Episode 1850\tAverage Score: 0.3247\n",
      "Episode 1900\tAverage Score: 0.3263\n",
      "Episode 1950\tAverage Score: 0.2937\n",
      "Episode 2000\tAverage Score: 0.3338\n",
      "Episode 2050\tAverage Score: 0.4014\n",
      "Episode 2100\tAverage Score: 0.4086\n",
      "Episode 2150\tAverage Score: 0.3675\n",
      "Episode 2200\tAverage Score: 0.3715\n",
      "Episode 2250\tAverage Score: 0.3875\n",
      "Episode 2300\tAverage Score: 0.3485\n",
      "Episode 2350\tAverage Score: 0.2807\n",
      "Episode 2400\tAverage Score: 0.2058\n",
      "Episode 2450\tAverage Score: 0.1926\n",
      "Episode 2500\tAverage Score: 0.2280\n",
      "Episode 2550\tAverage Score: 0.2713\n",
      "Episode 2600\tAverage Score: 0.3826\n",
      "Episode 2650\tAverage Score: 0.4000\n",
      "Episode 2700\tAverage Score: 0.3772\n",
      "Episode 2750\tAverage Score: 0.4295\n",
      "Episode 2800\tAverage Score: 0.3456\n",
      "Episode 2850\tAverage Score: 0.2576\n",
      "Episode 2900\tAverage Score: 0.2513\n",
      "Episode 2950\tAverage Score: 0.3021\n",
      "Episode 3000\tAverage Score: 0.4840\n",
      "Episode 3004\tAverage Score: 0.5050\n",
      "Problem Solved in 3004 episodes.\tAverage Score: 0.5050\n"
     ]
    },
    {
     "data": {
      "image/png": "[encoded data removed]",
      "text/plain": [
       "<matplotlib.figure.Figure at 0x7fafd3489c18>"
      ]
     },
     "metadata": {
      "needs_background": "light"
     },
     "output_type": "display_data"
    },
    {
     "data": {
      "text/plain": [
       "{'TennisBrain': <unityagents.brain.BrainInfo at 0x7faf61d36518>}"
      ]
     },
     "execution_count": 11,
     "metadata": {},
     "output_type": "execute_result"
    }
   ],
   "source": [
    "from ddpg_agent import Agent\n",
    "agents = [Agent(state_size=state_size, action_size=action_size, random_seed=42, Actor=Actor, Critic=Critic) for i in range(2)]\n",
    "scores_list, window_avgs = maddpg()\n",
    "visualize(Actor, Critic, scores_list, window_avgs)\n",
    "env.reset()"
   ]
  },
  {
   "cell_type": "code",
   "execution_count": null,
   "metadata": {},
   "outputs": [],
   "source": []
  },
  {
   "cell_type": "code",
   "execution_count": null,
   "metadata": {},
   "outputs": [],
   "source": []
  }
 ],
 "metadata": {
  "kernelspec": {
   "display_name": "Python 3",
   "language": "python",
   "name": "python3"
  },
  "language_info": {
   "codemirror_mode": {
    "name": "ipython",
    "version": 3
   },
   "file_extension": ".py",
   "mimetype": "text/x-python",
   "name": "python",
   "nbconvert_exporter": "python",
   "pygments_lexer": "ipython3",
   "version": "3.7.4"
  }
 },
 "nbformat": 4,
 "nbformat_minor": 2
}
